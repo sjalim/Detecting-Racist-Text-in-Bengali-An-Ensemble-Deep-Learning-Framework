{
 "cells": [
  {
   "cell_type": "code",
   "execution_count": null,
   "metadata": {},
   "outputs": [],
   "source": [
    "from google.colab import drive\n",
    "drive.mount('/content/drive')"
   ]
  },
  {
   "cell_type": "code",
   "execution_count": null,
   "metadata": {},
   "outputs": [],
   "source": [
    "!pip install -U sentence-transformers\n",
    "!pip install tqdm"
   ]
  },
  {
   "cell_type": "code",
   "execution_count": null,
   "metadata": {},
   "outputs": [],
   "source": [
    "import pandas as pd\n",
    "from sentence_transformers import SentenceTransformer\n",
    "import numpy as np\n"
   ]
  },
  {
   "cell_type": "code",
   "execution_count": null,
   "metadata": {},
   "outputs": [],
   "source": [
    "corpus_b_path = 'drive/MyDrive/RacismPaper/dataset_binary.csv'\n",
    "em_b_path_1 = 'drive/MyDrive/RacismPaper/Dataset/wordEmbedding/binary/em_1'\n",
    "em_b_path_2 = 'drive/MyDrive/RacismPaper/Dataset/wordEmbedding/binary/em_2'\n",
    "em_b_path_3 = 'drive/MyDrive/RacismPaper/Dataset/wordEmbedding/binary/em_3'"
   ]
  },
  {
   "cell_type": "markdown",
   "metadata": {},
   "source": [
    "All the BERT word embeddings models\n",
    "- CSE BUET BanglaBERT (https://huggingface.co/csebuetnlp/banglabert)\n",
    "- Sagor BERT Bangla BERT Base (https://huggingface.co/sagorsarker/bangla-bert-base)\n",
    "- Sahaj BERT (https://huggingface.co/neuropark/sahajBERT)"
   ]
  },
  {
   "cell_type": "code",
   "execution_count": null,
   "metadata": {},
   "outputs": [],
   "source": [
    "csebuetnlp_banglabert = SentenceTransformer('csebuetnlp/banglabert')\n",
    "sagorsarker_bangla_bert_base = SentenceTransformer('sagorsarker/bangla-bert-base')\n",
    "neuropark_sahajBERT = SentenceTransformer('csebuetnlp/banglabert')\n"
   ]
  },
  {
   "cell_type": "markdown",
   "metadata": {},
   "source": [
    "Data label:\n",
    "- Normal -> 0\n",
    "- Racim -> 1\n"
   ]
  },
  {
   "cell_type": "code",
   "execution_count": null,
   "metadata": {},
   "outputs": [],
   "source": [
    "dataset_binary = pd.read_csv(corpus_b_path)\n",
    "texts = dataset_binary['Text'].tolist()\n",
    "labels = dataset_binary['label'].tolist()"
   ]
  },
  {
   "cell_type": "markdown",
   "metadata": {},
   "source": [
    "# BanglaBERT"
   ]
  },
  {
   "cell_type": "code",
   "execution_count": null,
   "metadata": {},
   "outputs": [],
   "source": [
    "embeddings = csebuetnlp_banglabert.encode(texts)\n",
    "labels = np.array(labels).reshape(len(labels),1)\n",
    "embeddings_with_label = np.concatenate((embeddings, labels), axis=1)\n",
    "\n",
    "cols = [\n",
    "        x for x in range(len(embeddings[0]))\n",
    "]\n",
    "cols.append('label')\n",
    "dataset_em = pd.DataFrame.from_records(\n",
    "  embeddings_with_label, columns=cols)\n",
    "dataset_em.to_csv(em_b_path_1)"
   ]
  },
  {
   "cell_type": "markdown",
   "metadata": {},
   "source": [
    "# BanglaBertBase\n"
   ]
  },
  {
   "cell_type": "code",
   "execution_count": null,
   "metadata": {},
   "outputs": [],
   "source": [
    "embeddings = sagorsarker_bangla_bert_base.encode(texts)\n",
    "labels = np.array(labels).reshape(len(labels),1)\n",
    "embeddings_with_label = np.concatenate((embeddings, labels), axis=1)\n",
    "\n",
    "cols = [\n",
    "        x for x in range(len(embeddings[0]))\n",
    "]\n",
    "cols.append('label')\n",
    "dataset_em = pd.DataFrame.from_records(\n",
    "  embeddings_with_label, columns=cols)\n",
    "dataset_em.to_csv(em_b_path_2)"
   ]
  },
  {
   "cell_type": "markdown",
   "metadata": {},
   "source": [
    "# Sahaj BERT"
   ]
  },
  {
   "cell_type": "code",
   "execution_count": null,
   "metadata": {},
   "outputs": [],
   "source": [
    "embeddings = neuropark_sahajBERT.encode(texts)\n",
    "labels = np.array(labels).reshape(len(labels),1)\n",
    "embeddings_with_label = np.concatenate((embeddings, labels), axis=1)\n",
    "\n",
    "cols = [\n",
    "        x for x in range(len(embeddings[0]))\n",
    "]\n",
    "cols.append('label')\n",
    "dataset_em = pd.DataFrame.from_records(\n",
    "  embeddings_with_label, columns=cols)\n",
    "dataset_em.to_csv(em_b_path_3)"
   ]
  }
 ],
 "metadata": {
  "language_info": {
   "name": "python"
  },
  "orig_nbformat": 4
 },
 "nbformat": 4,
 "nbformat_minor": 2
}
